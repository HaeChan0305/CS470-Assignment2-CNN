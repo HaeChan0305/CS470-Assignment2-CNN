{
  "cells": [
    {
      "cell_type": "markdown",
      "metadata": {
        "id": "UEXqCDmc4f6Y"
      },
      "source": [
        "# Problem 3. Comparison of MLP and CNN\n",
        "In this assignment, you will compare two models ( MLP & CNN)"
      ]
    },
    {
      "cell_type": "markdown",
      "metadata": {
        "id": "c9fNcMT74mZX"
      },
      "source": [
        "\n",
        "\n",
        "\n",
        "## Import libraries including PyTorch"
      ]
    },
    {
      "cell_type": "code",
      "execution_count": 1,
      "metadata": {
        "id": "y9Ril33Vw2FB"
      },
      "outputs": [],
      "source": [
        "#Importing all libraries\n",
        "import os\n",
        "import time\n",
        "import numpy as np\n",
        "import pandas as pd\n",
        "import torch\n",
        "import torch.nn as nn\n",
        "import torch.nn.functional as F\n",
        "from torch.utils.data import Dataset\n",
        "from torch.utils.data import DataLoader\n",
        "import torchvision\n",
        "import torchvision.transforms as transforms\n",
        "import PIL\n",
        "from PIL import Image\n",
        "from torchvision import datasets \n"
      ]
    },
    {
      "cell_type": "markdown",
      "metadata": {
        "id": "rK9eUV4V-XaU"
      },
      "source": [
        "## Load the data"
      ]
    },
    {
      "cell_type": "code",
      "execution_count": 2,
      "metadata": {
        "id": "6f4W6thRw8HA",
        "colab": {
          "base_uri": "https://localhost:8080/"
        },
        "outputId": "bbf13f61-7cc8-4b4c-9822-88fc90524ce6"
      },
      "outputs": [
        {
          "output_type": "stream",
          "name": "stdout",
          "text": [
            "Downloading http://fashion-mnist.s3-website.eu-central-1.amazonaws.com/train-images-idx3-ubyte.gz\n",
            "Downloading http://fashion-mnist.s3-website.eu-central-1.amazonaws.com/train-images-idx3-ubyte.gz to ./data/FashionMNIST/raw/train-images-idx3-ubyte.gz\n"
          ]
        },
        {
          "output_type": "stream",
          "name": "stderr",
          "text": [
            "100%|██████████| 26421880/26421880 [00:01<00:00, 16078644.35it/s]\n"
          ]
        },
        {
          "output_type": "stream",
          "name": "stdout",
          "text": [
            "Extracting ./data/FashionMNIST/raw/train-images-idx3-ubyte.gz to ./data/FashionMNIST/raw\n",
            "\n",
            "Downloading http://fashion-mnist.s3-website.eu-central-1.amazonaws.com/train-labels-idx1-ubyte.gz\n",
            "Downloading http://fashion-mnist.s3-website.eu-central-1.amazonaws.com/train-labels-idx1-ubyte.gz to ./data/FashionMNIST/raw/train-labels-idx1-ubyte.gz\n"
          ]
        },
        {
          "output_type": "stream",
          "name": "stderr",
          "text": [
            "100%|██████████| 29515/29515 [00:00<00:00, 283218.03it/s]\n"
          ]
        },
        {
          "output_type": "stream",
          "name": "stdout",
          "text": [
            "Extracting ./data/FashionMNIST/raw/train-labels-idx1-ubyte.gz to ./data/FashionMNIST/raw\n",
            "\n",
            "Downloading http://fashion-mnist.s3-website.eu-central-1.amazonaws.com/t10k-images-idx3-ubyte.gz\n",
            "Downloading http://fashion-mnist.s3-website.eu-central-1.amazonaws.com/t10k-images-idx3-ubyte.gz to ./data/FashionMNIST/raw/t10k-images-idx3-ubyte.gz\n"
          ]
        },
        {
          "output_type": "stream",
          "name": "stderr",
          "text": [
            "100%|██████████| 4422102/4422102 [00:00<00:00, 5103792.18it/s]\n"
          ]
        },
        {
          "output_type": "stream",
          "name": "stdout",
          "text": [
            "Extracting ./data/FashionMNIST/raw/t10k-images-idx3-ubyte.gz to ./data/FashionMNIST/raw\n",
            "\n",
            "Downloading http://fashion-mnist.s3-website.eu-central-1.amazonaws.com/t10k-labels-idx1-ubyte.gz\n",
            "Downloading http://fashion-mnist.s3-website.eu-central-1.amazonaws.com/t10k-labels-idx1-ubyte.gz to ./data/FashionMNIST/raw/t10k-labels-idx1-ubyte.gz\n"
          ]
        },
        {
          "output_type": "stream",
          "name": "stderr",
          "text": [
            "100%|██████████| 5148/5148 [00:00<00:00, 21336242.09it/s]\n"
          ]
        },
        {
          "output_type": "stream",
          "name": "stdout",
          "text": [
            "Extracting ./data/FashionMNIST/raw/t10k-labels-idx1-ubyte.gz to ./data/FashionMNIST/raw\n",
            "\n"
          ]
        }
      ],
      "source": [
        "train_transform = transforms.Compose(\n",
        "    [#transforms.RandomHorizontalFlip(p=0.5),\n",
        "     #transforms.RandomAffine(degrees=(-5, 5), translate=(0.1, 0.1), scale=(0.9, 1.1), resample=PIL.Image.BILINEAR), ##DATA AUGMENTATION \n",
        "     transforms.ToTensor(),\n",
        "     transforms.Normalize((0.5), (0.5))\n",
        "     ])\n",
        "\n",
        "test_transform = transforms.Compose(\n",
        "    [\n",
        "     transforms.ToTensor(),\n",
        "     transforms.Normalize((0.5), (0.5))\n",
        "     ])\n",
        "\n",
        "dataset = torchvision.datasets.FashionMNIST(root='./data', train=True, download=True, transform=train_transform)\n",
        "train_set, val_set = torch.utils.data.random_split(dataset, [50000, 10000])\n",
        "\n",
        "train_loader = torch.utils.data.DataLoader(train_set, batch_size=128, shuffle=True, num_workers=1)\n",
        "val_loader = torch.utils.data.DataLoader(val_set, batch_size=128, shuffle=False, num_workers=1)\n",
        "\n",
        "test_set = torchvision.datasets.FashionMNIST(root='./data', train=False, download=True, transform=test_transform)\n",
        "test_loader = torch.utils.data.DataLoader(test_set, batch_size=128, shuffle=False, num_workers=1)\n",
        "\n",
        "classes = [\"T-shirt/top\", \"Trouser\", \"Pullover\", \"Dress\", \"Coat\", \"Sandal\", \"Shirt\", \"Sneaker\", \"Bag\", \"Ankle boot\"]   \n"
      ]
    },
    {
      "cell_type": "markdown",
      "metadata": {
        "id": "yICrp7NCVA2S"
      },
      "source": [
        "## A CNN Model with MaxPooling layers from Problem 2\n",
        "You can copy the model below. Then, train and obtain the necessary analyzation data.\n"
      ]
    },
    {
      "cell_type": "code",
      "execution_count": 3,
      "metadata": {
        "id": "uGPzyawaVPSv",
        "colab": {
          "base_uri": "https://localhost:8080/"
        },
        "outputId": "1fd6bf2b-ad02-4fa6-d407-a44ac54493a9"
      },
      "outputs": [
        {
          "output_type": "stream",
          "name": "stdout",
          "text": [
            "Device: cuda:0\n",
            "Number of trainable parameters: 2003754\n",
            "----------------------------------------------------------------\n",
            "        Layer (type)               Output Shape         Param #\n",
            "================================================================\n",
            "            Conv2d-1           [-1, 32, 26, 26]             320\n",
            "         MaxPool2d-2           [-1, 32, 25, 25]               0\n",
            "            Conv2d-3           [-1, 64, 23, 23]          18,496\n",
            "         MaxPool2d-4           [-1, 64, 22, 22]               0\n",
            "           Dropout-5           [-1, 64, 22, 22]               0\n",
            "            Linear-6                   [-1, 64]       1,982,528\n",
            "            Linear-7                   [-1, 32]           2,080\n",
            "            Linear-8                   [-1, 10]             330\n",
            "================================================================\n",
            "Total params: 2,003,754\n",
            "Trainable params: 2,003,754\n",
            "Non-trainable params: 0\n",
            "----------------------------------------------------------------\n",
            "Input size (MB): 0.00\n",
            "Forward/backward pass size (MB): 1.05\n",
            "Params size (MB): 7.64\n",
            "Estimated Total Size (MB): 8.70\n",
            "----------------------------------------------------------------\n"
          ]
        }
      ],
      "source": [
        "\"\"\"\n",
        "\n",
        "USE CNN Model from Problem 2 in CNN_problem_2.ipynb\n",
        "\n",
        "\"\"\"\n",
        "###########################################################################\n",
        "# PLACE YOUR CODE HERE                                                    #\n",
        "###########################################################################\n",
        "class CNN_Max(nn.Module):\n",
        "  \"\"\"\n",
        "  A convolutional neural network (CNN). In this CNN object, we will use following\n",
        "  dimensions:\n",
        "\n",
        "  input_size: the dimension d of the input data.                        \n",
        "  hidden_size: the number of neurons h in the hidden layer.             \n",
        "  output_size: the number of classes c, which is 10 in our task          \n",
        "  \"\"\"\n",
        "  def __init__(self):\n",
        "    \"\"\"\n",
        "    An initialization function. This object of network is a simple feed-forward \n",
        "    network. It takes an input to pass to muitiple layers. Then, provide the \n",
        "    output. The layers are initialized after their creation. \n",
        "\n",
        "    In this problem, we will use following set of parameters building a CNN/\n",
        "\n",
        "    conv: convolutional kernel size, which is 3 by 3 with bias                         \n",
        "    pool: pooling kernel-size, which is 2 by 2    \n",
        "    dropout: random zeroing layer with probability 0.4                            \n",
        "    fc: fully-connected layer which uses affine operation y=Wx+b              \n",
        "\n",
        "    Parameters\n",
        "    ----------\n",
        "    N/A\n",
        "    \"\"\"\n",
        "    super(CNN_Max, self).__init__()\n",
        " \n",
        "    self.conv1 = nn.Conv2d(in_channels=1, out_channels=32, kernel_size=3, bias=True)  \n",
        "    self.conv2 = nn.Conv2d(in_channels=32, out_channels=64, kernel_size=3, bias=True)\n",
        "    self.maxpool = nn.MaxPool2d(kernel_size=2, stride=1)\n",
        "    self.linear1 = nn.Linear(in_features=64*22*22, out_features=64, bias=True)\n",
        "    self.linear2 = nn.Linear(in_features=64, out_features=32, bias=True)\n",
        "    self.linear3 = nn.Linear(in_features=32, out_features=10, bias=True)\n",
        "    self.dropout = nn.Dropout(p=0.7)\n",
        "\n",
        "  def forward(self, x):\n",
        "    \"\"\"\n",
        "    A forward pass function. Using the pre-defined network modules, we can here \n",
        "    build a model designing its structure. \n",
        "\n",
        "    Parameters\n",
        "    ---------- \n",
        "    x: matrix  \n",
        "      an input data of shape (1, d, d), where d is the dimension of the input \n",
        "      image. \n",
        "  \n",
        "    Returns\n",
        "    ---------- \n",
        "    out:     \n",
        "      an output data given x.\n",
        "\n",
        "    \"\"\"\n",
        "    x = self.conv1(x)                 # (1, 28, 28)  -> (32, 26, 26)\n",
        "    x = self.maxpool(x)               # (32, 26, 26) -> (32, 25, 25)\n",
        "\n",
        "    x = self.conv2(x)                 # (32, 25, 25) -> (64, 23, 23)\n",
        "    x = self.maxpool(x)               # (64, 23, 23) -> (64, 22, 22)\n",
        "    x = self.dropout(x)\n",
        "    \n",
        "    x = x.view(-1, 64 * 22 * 22)      # (64, 22, 22) -> (64 * 22 * 22, )\n",
        "    x = F.relu(self.linear1(x))       # (64 * 22 * 22,) -> (64, )\n",
        "    x = F.relu(self.linear2(x))       # (64, ) -> (32, )\n",
        "    out = self.linear3(x)               # (32, ) -> (10, )\n",
        "\n",
        "    return out\n",
        "\n",
        "# create a CNN object\n",
        "net_cnn = CNN_Max()\n",
        "device = torch.device(\"cuda:0\" if torch.cuda.is_available() else \"cpu\")\n",
        "print('Device:', device)\n",
        "net_cnn.to(device)\n",
        "\n",
        "num_params = sum(p.numel() for p in net_cnn.parameters() if p.requires_grad)\n",
        "print(\"Number of trainable parameters:\", num_params)\n",
        "\n",
        "from torchsummary import summary\n",
        "summary(net_cnn,(1,28,28))\n",
        "\n",
        "# END OF YOUR CODE                           \n",
        "###########################################################################"
      ]
    },
    {
      "cell_type": "code",
      "source": [
        "\"\"\"\n",
        "\n",
        "Train the CNN model\n",
        "\n",
        "\"\"\"\n",
        "###########################################################################\n",
        "# PLACE YOUR CODE HERE                                                    #\n",
        "###########################################################################\n",
        "import torch.optim as optim\n",
        "\n",
        "\"\"\"\n",
        "\n",
        " You have to define the loss, for that please use cross entropy loss      \n",
        " Also, you must implement optimizer called SGD.                           \n",
        "\n",
        "\"\"\"\n",
        "\n",
        "criterion = nn.CrossEntropyLoss()\n",
        "optimizer = optim.SGD(net_cnn.parameters(), lr=0.01, momentum=0.9, weight_decay=1e-5)\n",
        "scheduler = optim.lr_scheduler.ReduceLROnPlateau(optimizer, mode='min', factor=0.1, patience=10, verbose=True)\n",
        "\n",
        "loss_hist_cnn, acc_hist_cnn = [], []\n",
        "loss_hist_val_cnn, acc_hist_val_cnn = [], []\n",
        "\n",
        "for epoch in range(30):\n",
        "  running_loss = 0.0\n",
        "  correct = 0\n",
        "  for data in train_loader:\n",
        "    batch, labels = data\n",
        "    batch, labels = batch.to(device), labels.to(device)\n",
        "\n",
        "    \"\"\"\n",
        "\n",
        "    First, set the gradients to zero. Then obtain predictions from your CNN   \n",
        "    model. After that, pass into loss to calculate the difference between the \n",
        "    prediction and labels. Next, you have to compute the gradients with       \n",
        "    respect to the tensor.  \n",
        "\n",
        "\n",
        "    \"\"\"\n",
        "    optimizer.zero_grad() # optimizer default 설정이 gradients를 계속 더하기 때문에 항상 초기화 해줘야함. \n",
        "    \n",
        "    outputs = net_cnn(batch) #(batch_size, class_num) = (128, 10)\n",
        "    loss = criterion(outputs, labels)\n",
        "    loss.backward() \n",
        "    optimizer.step()\n",
        "\n",
        "    # compute training statistics\n",
        "    _, predicted = torch.max(outputs, 1)\n",
        "    correct += (predicted == labels).sum().item()\n",
        "    running_loss += loss.item()\n",
        "\n",
        "  avg_loss = running_loss / len(train_set)\n",
        "  avg_acc = correct / len(train_set)\n",
        "  loss_hist_cnn.append(avg_loss)\n",
        "  acc_hist_cnn.append(avg_acc)\n",
        "\n",
        "  # validation statistics\n",
        "  net_cnn.eval()\n",
        "  with torch.no_grad():\n",
        "    loss_val = 0.0\n",
        "    correct_val = 0\n",
        "    for data in val_loader:\n",
        "      batch, labels = data\n",
        "      batch, labels = batch.to(device), labels.to(device)\n",
        "      outputs = net_cnn(batch)\n",
        "      loss = criterion(outputs, labels)\n",
        "      _, predicted = torch.max(outputs, 1)\n",
        "      correct_val += (predicted == labels).sum().item()\n",
        "      loss_val += loss.item()\n",
        "    avg_loss_val = loss_val / len(val_set)\n",
        "    avg_acc_val = correct_val / len(val_set)\n",
        "    loss_hist_val_cnn.append(avg_loss_val)\n",
        "    acc_hist_val_cnn.append(avg_acc_val)\n",
        "  net_cnn.train()\n",
        "\n",
        "  scheduler.step(avg_loss_val)\n",
        "  print('[epoch %d] loss: %.5f accuracy: %.4f val loss: %.5f val accuracy: %.4f' % (epoch + 1, avg_loss, avg_acc, avg_loss_val, avg_acc_val))\n",
        "\n",
        "# END OF YOUR CODE                           \n",
        "###########################################################################"
      ],
      "metadata": {
        "id": "-ncm2t7VsZqD",
        "colab": {
          "base_uri": "https://localhost:8080/"
        },
        "outputId": "ada411b9-460d-4ed2-e568-5dc0aca5477b"
      },
      "execution_count": 4,
      "outputs": [
        {
          "output_type": "stream",
          "name": "stdout",
          "text": [
            "[epoch 1] loss: 0.00462 accuracy: 0.7827 val loss: 0.00296 val accuracy: 0.8660\n",
            "[epoch 2] loss: 0.00287 accuracy: 0.8646 val loss: 0.00259 val accuracy: 0.8839\n",
            "[epoch 3] loss: 0.00248 accuracy: 0.8843 val loss: 0.00246 val accuracy: 0.8848\n",
            "[epoch 4] loss: 0.00221 accuracy: 0.8964 val loss: 0.00236 val accuracy: 0.8903\n",
            "[epoch 5] loss: 0.00204 accuracy: 0.9040 val loss: 0.00220 val accuracy: 0.8989\n",
            "[epoch 6] loss: 0.00191 accuracy: 0.9098 val loss: 0.00216 val accuracy: 0.9033\n",
            "[epoch 7] loss: 0.00178 accuracy: 0.9155 val loss: 0.00220 val accuracy: 0.8989\n",
            "[epoch 8] loss: 0.00167 accuracy: 0.9207 val loss: 0.00209 val accuracy: 0.9053\n",
            "[epoch 9] loss: 0.00159 accuracy: 0.9238 val loss: 0.00209 val accuracy: 0.9081\n",
            "[epoch 10] loss: 0.00151 accuracy: 0.9285 val loss: 0.00206 val accuracy: 0.9103\n",
            "[epoch 11] loss: 0.00142 accuracy: 0.9318 val loss: 0.00218 val accuracy: 0.9037\n",
            "[epoch 12] loss: 0.00134 accuracy: 0.9357 val loss: 0.00207 val accuracy: 0.9108\n",
            "[epoch 13] loss: 0.00127 accuracy: 0.9391 val loss: 0.00204 val accuracy: 0.9108\n",
            "[epoch 14] loss: 0.00123 accuracy: 0.9415 val loss: 0.00213 val accuracy: 0.9141\n",
            "[epoch 15] loss: 0.00115 accuracy: 0.9449 val loss: 0.00222 val accuracy: 0.9120\n",
            "[epoch 16] loss: 0.00112 accuracy: 0.9464 val loss: 0.00223 val accuracy: 0.9101\n",
            "[epoch 17] loss: 0.00106 accuracy: 0.9497 val loss: 0.00225 val accuracy: 0.9108\n",
            "[epoch 18] loss: 0.00101 accuracy: 0.9507 val loss: 0.00220 val accuracy: 0.9147\n",
            "[epoch 19] loss: 0.00098 accuracy: 0.9527 val loss: 0.00236 val accuracy: 0.9116\n",
            "[epoch 20] loss: 0.00091 accuracy: 0.9567 val loss: 0.00244 val accuracy: 0.9086\n",
            "[epoch 21] loss: 0.00089 accuracy: 0.9568 val loss: 0.00235 val accuracy: 0.9105\n",
            "[epoch 22] loss: 0.00084 accuracy: 0.9600 val loss: 0.00244 val accuracy: 0.9118\n",
            "[epoch 23] loss: 0.00080 accuracy: 0.9606 val loss: 0.00248 val accuracy: 0.9144\n",
            "Epoch 00024: reducing learning rate of group 0 to 1.0000e-03.\n",
            "[epoch 24] loss: 0.00079 accuracy: 0.9621 val loss: 0.00250 val accuracy: 0.9155\n",
            "[epoch 25] loss: 0.00059 accuracy: 0.9717 val loss: 0.00248 val accuracy: 0.9176\n",
            "[epoch 26] loss: 0.00054 accuracy: 0.9750 val loss: 0.00248 val accuracy: 0.9171\n",
            "[epoch 27] loss: 0.00052 accuracy: 0.9752 val loss: 0.00251 val accuracy: 0.9183\n",
            "[epoch 28] loss: 0.00050 accuracy: 0.9762 val loss: 0.00253 val accuracy: 0.9182\n",
            "[epoch 29] loss: 0.00049 accuracy: 0.9774 val loss: 0.00255 val accuracy: 0.9175\n",
            "[epoch 30] loss: 0.00048 accuracy: 0.9777 val loss: 0.00254 val accuracy: 0.9187\n"
          ]
        }
      ]
    },
    {
      "cell_type": "code",
      "execution_count": 5,
      "metadata": {
        "id": "qFPFNwEHVrED",
        "colab": {
          "base_uri": "https://localhost:8080/",
          "height": 480
        },
        "outputId": "de6e3b6c-0a0c-4043-db4d-1d8039b379b7"
      },
      "outputs": [
        {
          "output_type": "display_data",
          "data": {
            "text/plain": [
              "<Figure size 640x480 with 2 Axes>"
            ],
            "image/png": "[encoded data removed]"
          },
          "metadata": {}
        }
      ],
      "source": [
        "\"\"\"\n",
        "\n",
        "Visualize a plot of validation accuracy curves from\n",
        "the CNN model\n",
        "\n",
        "\"\"\"\n",
        "###########################################################################\n",
        "# PLACE YOUR CODE HERE                                                    #\n",
        "###########################################################################\n",
        "import matplotlib.pyplot as plt\n",
        "\n",
        "legend = ['Train', 'Validation']\n",
        "fig, ax = plt.subplots(2, 1)\n",
        "\n",
        "plt.subplot(2,1,1)\n",
        "plt.plot(loss_hist_cnn)\n",
        "plt.plot(loss_hist_val_cnn)\n",
        "plt.title('Loss history')\n",
        "plt.xlabel('epoch')\n",
        "plt.ylabel('Loss')\n",
        "\n",
        "fig.tight_layout(pad=2.0)\n",
        "\n",
        "plt.subplot(2,1,2)\n",
        "plt.plot(acc_hist_cnn)\n",
        "plt.plot(acc_hist_val_cnn)\n",
        "plt.title('Accuracy history')\n",
        "plt.xlabel('epoch')\n",
        "plt.ylabel('Accuracy') \n",
        "\n",
        "#plt.legend(legend, loc='upper left')\n",
        "plt.show()\n",
        "#END OF YOUR CODE                           \n",
        "###########################################################################"
      ]
    },
    {
      "cell_type": "code",
      "source": [
        "pred_vec = []\n",
        "correct = 0\n",
        "net_cnn.eval()\n",
        "with torch.no_grad():\n",
        "    for data in test_loader:\n",
        "        batch, labels = data\n",
        "        batch, labels = batch.to(device), labels.to(device)\n",
        "        outputs = net_cnn(batch)\n",
        "        _, predicted = torch.max(outputs, 1)\n",
        "        correct += (predicted == labels).sum().item()\n",
        "        pred_vec.append(predicted)\n",
        "    pred_vec = torch.cat(pred_vec)\n",
        "\n",
        "print('Accuracy on the 10000 test images: %.2f %%' % (100 * correct / len(test_set)))"
      ],
      "metadata": {
        "colab": {
          "base_uri": "https://localhost:8080/"
        },
        "id": "b4xwsenFhNFk",
        "outputId": "1839a180-36a6-44a4-b7d8-108057a28cc5"
      },
      "execution_count": 6,
      "outputs": [
        {
          "output_type": "stream",
          "name": "stdout",
          "text": [
            "Accuracy on the 10000 test images: 91.48 %\n"
          ]
        }
      ]
    },
    {
      "cell_type": "markdown",
      "source": [
        "## An MLP model with ReLU layers similar to the assignment 1"
      ],
      "metadata": {
        "id": "Ak9BJM-tsivN"
      }
    },
    {
      "cell_type": "code",
      "source": [
        "import torch.nn as nn\n",
        "import torch.nn.functional as F\n",
        "\n",
        "# Problem 2: Implementing your own CNN\n",
        "# a. Convolution and MaxPooling layers\n",
        "\n",
        "\n",
        "class MLP(nn.Module):\n",
        "  \"\"\"\n",
        "  A multilayer perceptrons (MLP). In this MLP object, we will use following\n",
        "  dimensions:\n",
        "\n",
        "  input_size: the dimension d of the input data.                        \n",
        "  hidden_size: the number of neurons h in the hidden layer.             \n",
        "  output_size: the number of classes c, which is 10 in our task          \n",
        "  \"\"\"\n",
        "  def __init__(self):\n",
        "    \"\"\"\n",
        "    An initialization function. This object of network is a simple feed-forward \n",
        "    network. It takes an input to pass to muitiple layers. Then, provide the \n",
        "    output. The layers are initialized after their creation. \n",
        "\n",
        "    Parameters\n",
        "    ----------\n",
        "    N/A\n",
        "    \"\"\"\n",
        "    super(MLP, self).__init__()\n",
        "\n",
        "    #############################################################################\n",
        "    # PLACE YOUR CODE HERE                                                      #\n",
        "    ############################################################################# \n",
        "    # TODO: design your fully connected layers\n",
        "    # E.g., self.fc1 = ?, self.fc2 = ?, self.fc3 = ? \n",
        "    self.fc1 = nn.Linear(in_features=28*28, out_features=1024, bias=True)\n",
        "    self.fc2 = nn.Linear(in_features=1024, out_features=1024, bias=True)\n",
        "    self.fc3 = nn.Linear(in_features=1024, out_features=128, bias=True)\n",
        "    self.fc4 = nn.Linear(in_features=128, out_features=128, bias=True)\n",
        "    self.fc5 = nn.Linear(in_features=128, out_features=32, bias=True)\n",
        "    self.fc6 = nn.Linear(in_features=32, out_features=10, bias=True)\n",
        "    #############################################################################\n",
        "   \n",
        "\n",
        "  def forward(self, x):\n",
        "    \"\"\"\n",
        "    A forward pass function. Using the pre-defined network modules, we can here \n",
        "    build a model designing its structure. \n",
        "\n",
        "    Parameters\n",
        "    ---------- \n",
        "    x: matrix  \n",
        "      an input data of shape (1, d, d), where d is the dimension of the input \n",
        "      image. \n",
        "  \n",
        "    Returns\n",
        "    ---------- \n",
        "    out:     \n",
        "      an output data given x.\n",
        "\n",
        "    \"\"\"\n",
        "    #############################################################################\n",
        "    # PLACE YOUR CODE HERE                                                      #\n",
        "    ############################################################################# \n",
        "    # TODO: construct the fully connected neural network given x\n",
        "    x = x.view(-1, 28 * 28)      # (28, 28) -> (28 * 28, )\n",
        "    \n",
        "    x = self.fc1(x)\n",
        "    x = F.relu(x)\n",
        "\n",
        "    x = self.fc2(x)\n",
        "    x = F.relu(x)\n",
        "    \n",
        "    x = self.fc3(x)\n",
        "    x = F.relu(x)\n",
        "    \n",
        "    x = self.fc4(x)\n",
        "    x = F.relu(x)\n",
        "\n",
        "    x = self.fc5(x)\n",
        "    x = F.relu(x)\n",
        "\n",
        "    x = self.fc6(x)\n",
        "    x = F.relu(x)\n",
        "\n",
        "    out = x\n",
        "    #############################################################################\n",
        "\n",
        "    return out\n",
        "\n",
        "# create a CNN object\n",
        "net = MLP()\n",
        "device = torch.device(\"cuda:0\" if torch.cuda.is_available() else \"cpu\")\n",
        "print('Device:', device)\n",
        "net.to(device)\n",
        "\n",
        "num_params = sum(p.numel() for p in net.parameters() if p.requires_grad)\n",
        "print(\"Number of trainable parameters:\", num_params)\n",
        "\n",
        "from torchsummary import summary\n",
        "summary(net,(1,28,28))"
      ],
      "metadata": {
        "id": "TcMFS6gOsowL",
        "colab": {
          "base_uri": "https://localhost:8080/"
        },
        "outputId": "ff8eed39-f02f-4505-d58a-fe331cdd9caf"
      },
      "execution_count": 7,
      "outputs": [
        {
          "output_type": "stream",
          "name": "stdout",
          "text": [
            "Device: cuda:0\n",
            "Number of trainable parameters: 2005610\n",
            "----------------------------------------------------------------\n",
            "        Layer (type)               Output Shape         Param #\n",
            "================================================================\n",
            "            Linear-1                 [-1, 1024]         803,840\n",
            "            Linear-2                 [-1, 1024]       1,049,600\n",
            "            Linear-3                  [-1, 128]         131,200\n",
            "            Linear-4                  [-1, 128]          16,512\n",
            "            Linear-5                   [-1, 32]           4,128\n",
            "            Linear-6                   [-1, 10]             330\n",
            "================================================================\n",
            "Total params: 2,005,610\n",
            "Trainable params: 2,005,610\n",
            "Non-trainable params: 0\n",
            "----------------------------------------------------------------\n",
            "Input size (MB): 0.00\n",
            "Forward/backward pass size (MB): 0.02\n",
            "Params size (MB): 7.65\n",
            "Estimated Total Size (MB): 7.67\n",
            "----------------------------------------------------------------\n"
          ]
        }
      ]
    },
    {
      "cell_type": "code",
      "source": [
        "import torch.optim as optim\n",
        "\n",
        "\"\"\"\n",
        "\n",
        " You have to define the loss, for that please use cross entropy loss      \n",
        " Also, you must implement optimizer called SGD.                           \n",
        "\n",
        "\"\"\"\n",
        "\n",
        "#############################################################################\n",
        "# PLACE YOUR CODE HERE                                                      #\n",
        "############################################################################# \n",
        "# TODO: declare your optimizer\n",
        "criterion = nn.CrossEntropyLoss()\n",
        "optimizer = optim.SGD(net.parameters(), lr=0.01, momentum=0.9, weight_decay=1e-5)\n",
        "#############################################################################\n",
        "scheduler = optim.lr_scheduler.ReduceLROnPlateau(optimizer, mode='min', factor=0.1, patience=10, verbose=True)\n",
        "\n",
        "loss_hist, acc_hist = [], []\n",
        "loss_hist_val, acc_hist_val = [], []\n",
        "\n",
        "for epoch in range(30):\n",
        "  running_loss = 0.0\n",
        "  correct = 0\n",
        "  for data in train_loader:\n",
        "    batch, labels = data\n",
        "    batch, labels = batch.to(device), labels.to(device)\n",
        "\n",
        "    \"\"\"\n",
        "\n",
        "    First, set the gradients to zero. Then obtain predictions from your CNN   \n",
        "    model. After that, pass into loss to calculate the difference between the \n",
        "    prediction and labels. Next, you have to compute the gradients with       \n",
        "    respect to the tensor.  \n",
        "\n",
        "\n",
        "    \"\"\"\n",
        "    #############################################################################\n",
        "    # PLACE YOUR CODE HERE                                                      #\n",
        "    ############################################################################# \n",
        "    # todo optimizer and loss\n",
        "    optimizer.zero_grad() # optimizer default 설정이 gradients를 계속 더하기 때문에 항상 초기화 해줘야함. \n",
        "    \n",
        "    outputs = net(batch) #(batch_size, class_num) = (128, 10)\n",
        "    loss = criterion(outputs, labels)\n",
        "    loss.backward() \n",
        "    #############################################################################\n",
        "    optimizer.step()\n",
        "\n",
        "    # compute training statistics\n",
        "    _, predicted = torch.max(outputs, 1)\n",
        "    correct += (predicted == labels).sum().item()\n",
        "    running_loss += loss.item()\n",
        "\n",
        "  avg_loss = running_loss / len(train_set)\n",
        "  avg_acc = correct / len(train_set)\n",
        "  loss_hist.append(avg_loss)\n",
        "  acc_hist.append(avg_acc)\n",
        "\n",
        "  # validation statistics\n",
        "  net.eval()\n",
        "  with torch.no_grad():\n",
        "    loss_val = 0.0\n",
        "    correct_val = 0\n",
        "    for data in val_loader:\n",
        "      batch, labels = data\n",
        "      batch, labels = batch.to(device), labels.to(device)\n",
        "      outputs = net(batch)\n",
        "      loss = criterion(outputs, labels)\n",
        "      _, predicted = torch.max(outputs, 1)\n",
        "      correct_val += (predicted == labels).sum().item()\n",
        "      loss_val += loss.item()\n",
        "    avg_loss_val = loss_val / len(val_set)\n",
        "    avg_acc_val = correct_val / len(val_set)\n",
        "    loss_hist_val.append(avg_loss_val)\n",
        "    acc_hist_val.append(avg_acc_val)\n",
        "  net.train()\n",
        "\n",
        "  scheduler.step(avg_loss_val)\n",
        "  print('[epoch %d] loss: %.5f accuracy: %.4f val loss: %.5f val accuracy: %.4f' % (epoch + 1, avg_loss, avg_acc, avg_loss_val, avg_acc_val))\n",
        "     "
      ],
      "metadata": {
        "id": "i9BXH3gCubf-",
        "colab": {
          "base_uri": "https://localhost:8080/"
        },
        "outputId": "a646196d-a757-4379-f1f5-f2d28113c5f4"
      },
      "execution_count": 8,
      "outputs": [
        {
          "output_type": "stream",
          "name": "stdout",
          "text": [
            "[epoch 1] loss: 0.01146 accuracy: 0.4879 val loss: 0.00722 val accuracy: 0.6640\n",
            "[epoch 2] loss: 0.00585 accuracy: 0.7291 val loss: 0.00550 val accuracy: 0.7412\n",
            "[epoch 3] loss: 0.00506 accuracy: 0.7602 val loss: 0.00480 val accuracy: 0.7732\n",
            "[epoch 4] loss: 0.00474 accuracy: 0.7730 val loss: 0.00474 val accuracy: 0.7798\n",
            "[epoch 5] loss: 0.00452 accuracy: 0.7822 val loss: 0.00472 val accuracy: 0.7778\n",
            "[epoch 6] loss: 0.00429 accuracy: 0.7908 val loss: 0.00473 val accuracy: 0.7776\n",
            "[epoch 7] loss: 0.00415 accuracy: 0.7965 val loss: 0.00452 val accuracy: 0.7863\n",
            "[epoch 8] loss: 0.00403 accuracy: 0.8023 val loss: 0.00459 val accuracy: 0.7849\n",
            "[epoch 9] loss: 0.00394 accuracy: 0.8038 val loss: 0.00429 val accuracy: 0.7905\n",
            "[epoch 10] loss: 0.00377 accuracy: 0.8117 val loss: 0.00436 val accuracy: 0.7902\n",
            "[epoch 11] loss: 0.00373 accuracy: 0.8145 val loss: 0.00435 val accuracy: 0.7971\n",
            "[epoch 12] loss: 0.00367 accuracy: 0.8162 val loss: 0.00457 val accuracy: 0.7830\n",
            "[epoch 13] loss: 0.00356 accuracy: 0.8209 val loss: 0.00437 val accuracy: 0.7930\n",
            "[epoch 14] loss: 0.00351 accuracy: 0.8228 val loss: 0.00441 val accuracy: 0.7922\n",
            "[epoch 15] loss: 0.00341 accuracy: 0.8280 val loss: 0.00426 val accuracy: 0.8018\n",
            "[epoch 16] loss: 0.00334 accuracy: 0.8305 val loss: 0.00453 val accuracy: 0.7868\n",
            "[epoch 17] loss: 0.00324 accuracy: 0.8357 val loss: 0.00442 val accuracy: 0.7901\n",
            "[epoch 18] loss: 0.00324 accuracy: 0.8346 val loss: 0.00455 val accuracy: 0.7949\n",
            "[epoch 19] loss: 0.00315 accuracy: 0.8383 val loss: 0.00452 val accuracy: 0.7953\n",
            "[epoch 20] loss: 0.00309 accuracy: 0.8410 val loss: 0.00434 val accuracy: 0.8011\n",
            "[epoch 21] loss: 0.00302 accuracy: 0.8450 val loss: 0.00444 val accuracy: 0.8005\n",
            "[epoch 22] loss: 0.00295 accuracy: 0.8475 val loss: 0.00443 val accuracy: 0.7972\n",
            "[epoch 23] loss: 0.00288 accuracy: 0.8506 val loss: 0.00449 val accuracy: 0.7986\n",
            "[epoch 24] loss: 0.00288 accuracy: 0.8508 val loss: 0.00466 val accuracy: 0.8017\n",
            "[epoch 25] loss: 0.00283 accuracy: 0.8528 val loss: 0.00455 val accuracy: 0.8018\n",
            "Epoch 00026: reducing learning rate of group 0 to 1.0000e-03.\n",
            "[epoch 26] loss: 0.00279 accuracy: 0.8541 val loss: 0.00464 val accuracy: 0.7966\n",
            "[epoch 27] loss: 0.00236 accuracy: 0.8763 val loss: 0.00445 val accuracy: 0.8099\n",
            "[epoch 28] loss: 0.00224 accuracy: 0.8815 val loss: 0.00450 val accuracy: 0.8097\n",
            "[epoch 29] loss: 0.00220 accuracy: 0.8838 val loss: 0.00462 val accuracy: 0.8100\n",
            "[epoch 30] loss: 0.00217 accuracy: 0.8849 val loss: 0.00467 val accuracy: 0.8090\n"
          ]
        }
      ]
    },
    {
      "cell_type": "code",
      "source": [
        "import matplotlib.pyplot as plt\n",
        "\n",
        "\"\"\"\n",
        "\n",
        "  You have to plot two graphs, one for loss of training and validation data \n",
        "  and second one for accuarcy of training and validation data.              \n",
        "  Set x-axis to number of epochs and y-axis to loss or accuracy. Set legend \n",
        "  equal to training and validation set.                                      \n",
        "\n",
        "\"\"\"\n",
        "legend = ['Train', 'Validation']\n",
        "#############################################################################\n",
        "# PLACE YOUR CODE HERE                                                      #\n",
        "############################################################################# \n",
        "fig, ax = plt.subplots(2, 1)\n",
        "\n",
        "plt.subplot(2,1,1)\n",
        "plt.plot(loss_hist)\n",
        "plt.plot(loss_hist_val)\n",
        "plt.title('Loss history')\n",
        "plt.xlabel('epoch')\n",
        "plt.ylabel('Loss')\n",
        "\n",
        "fig.tight_layout(pad=2.0)\n",
        "\n",
        "plt.subplot(2,1,2)\n",
        "plt.plot(acc_hist)\n",
        "plt.plot(acc_hist_val)\n",
        "plt.title('Accuracy history')\n",
        "plt.xlabel('epoch')\n",
        "plt.ylabel('Accuracy') \n",
        "#############################################################################\n",
        "#                              END OF YOUR CODE                             #\n",
        "#############################################################################\n",
        "plt.legend(legend, loc='upper left')\n",
        "plt.show()\n"
      ],
      "metadata": {
        "id": "1qIzXHoRu1Sz",
        "colab": {
          "base_uri": "https://localhost:8080/",
          "height": 480
        },
        "outputId": "6c9ca975-c248-4654-ae0a-20a984077f17"
      },
      "execution_count": 9,
      "outputs": [
        {
          "output_type": "display_data",
          "data": {
            "text/plain": [
              "<Figure size 640x480 with 2 Axes>"
            ],
            "image/png": "[encoded data removed]"
          },
          "metadata": {}
        }
      ]
    },
    {
      "cell_type": "code",
      "source": [
        "pred_vec = []\n",
        "correct = 0\n",
        "net.eval()\n",
        "with torch.no_grad():\n",
        "    for data in test_loader:\n",
        "        batch, labels = data\n",
        "        batch, labels = batch.to(device), labels.to(device)\n",
        "        outputs = net(batch)\n",
        "        _, predicted = torch.max(outputs, 1)\n",
        "        correct += (predicted == labels).sum().item()\n",
        "        pred_vec.append(predicted)\n",
        "    pred_vec = torch.cat(pred_vec)\n",
        "\n",
        "print('Accuracy on the 10000 test images: %.2f %%' % (100 * correct / len(test_set)))"
      ],
      "metadata": {
        "colab": {
          "base_uri": "https://localhost:8080/"
        },
        "id": "OUnV6YZ4hQOV",
        "outputId": "2e631270-c0bd-44f9-8160-caccd5b01013"
      },
      "execution_count": 10,
      "outputs": [
        {
          "output_type": "stream",
          "name": "stdout",
          "text": [
            "Accuracy on the 10000 test images: 80.54 %\n"
          ]
        }
      ]
    },
    {
      "cell_type": "markdown",
      "source": [
        "compare CNN vs MLP"
      ],
      "metadata": {
        "id": "sCeTIkDslsju"
      }
    },
    {
      "cell_type": "code",
      "source": [
        "legend = ['CNN', 'MLP']\n",
        "#############################################################################\n",
        "# PLACE YOUR CODE HERE                                                      #\n",
        "############################################################################# \n",
        "\n",
        "plt.plot(acc_hist_val_cnn)\n",
        "plt.plot(acc_hist_val)\n",
        "plt.title('Accuracy history')\n",
        "plt.xlabel('epoch')\n",
        "plt.ylabel('Accuracy') \n",
        "#############################################################################\n",
        "#                              END OF YOUR CODE                             #\n",
        "#############################################################################\n",
        "plt.legend(legend, loc='upper left')\n",
        "plt.show()\n"
      ],
      "metadata": {
        "colab": {
          "base_uri": "https://localhost:8080/",
          "height": 472
        },
        "id": "dMwifUGGliQE",
        "outputId": "f7320094-05ca-4f5f-e536-2d15b4358bb5"
      },
      "execution_count": 11,
      "outputs": [
        {
          "output_type": "display_data",
          "data": {
            "text/plain": [
              "<Figure size 640x480 with 1 Axes>"
            ],
            "image/png": "[encoded data removed]"
          },
          "metadata": {}
        }
      ]
    },
    {
      "cell_type": "code",
      "source": [],
      "metadata": {
        "id": "G0jy-OjZmAiN"
      },
      "execution_count": 11,
      "outputs": []
    }
  ],
  "metadata": {
    "accelerator": "GPU",
    "colab": {
      "provenance": []
    },
    "gpuClass": "standard",
    "kernelspec": {
      "display_name": "Python 3.8.0 ('abstractions')",
      "language": "python",
      "name": "python3"
    },
    "language_info": {
      "name": "python",
      "version": "3.8.0"
    },
    "vscode": {
      "interpreter": {
        "hash": "8721cd82b25f1a887178f41bbb75d5669cbe3b96236e66242c2a570ade540c23"
      }
    }
  },
  "nbformat": 4,
  "nbformat_minor": 0
}