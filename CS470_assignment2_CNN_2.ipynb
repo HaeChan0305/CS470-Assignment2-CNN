{
  "cells": [
    {
      "cell_type": "markdown",
      "metadata": {
        "id": "vSuVSNspPs4f"
      },
      "source": [
        "# Problem 2: Convolutional Neural Networks (CNN)\n",
        "\n",
        "In this assignment, you will develop a neural network with convolution and pooling layers to perform image classification, and test it out on the [Fashion-MNIST](https://github.com/zalandoresearch/fashion-mnist) dataset. \n"
      ]
    },
    {
      "cell_type": "markdown",
      "source": [
        "### Import libraries including PyTorch"
      ],
      "metadata": {
        "id": "FrzQeXCOCl1N"
      }
    },
    {
      "cell_type": "code",
      "execution_count": 1,
      "metadata": {
        "id": "Rq22uftGvsR4"
      },
      "outputs": [],
      "source": [
        "#Importing all libraries\n",
        "import os\n",
        "import time\n",
        "import numpy as np\n",
        "import pandas as pd\n",
        "import torch\n",
        "import torch.nn as nn\n",
        "import torch.nn.functional as F\n",
        "from torch.utils.data import Dataset\n",
        "from torch.utils.data import DataLoader\n",
        "import torchvision\n",
        "import torchvision.transforms as transforms\n",
        "import PIL\n",
        "from PIL import Image\n",
        "from torchvision import datasets"
      ]
    },
    {
      "cell_type": "markdown",
      "metadata": {
        "id": "9wWxsXO7PyfT"
      },
      "source": [
        "### Download the data"
      ]
    },
    {
      "cell_type": "markdown",
      "source": [
        "Without data augmentation"
      ],
      "metadata": {
        "id": "KMFMeco2BO6G"
      }
    },
    {
      "cell_type": "code",
      "execution_count": 2,
      "metadata": {
        "id": "ITDbKtgGfcPa",
        "colab": {
          "base_uri": "https://localhost:8080/"
        },
        "outputId": "55a545c3-1e61-4190-c9d3-9a246733acde"
      },
      "outputs": [
        {
          "output_type": "stream",
          "name": "stdout",
          "text": [
            "Downloading http://fashion-mnist.s3-website.eu-central-1.amazonaws.com/train-images-idx3-ubyte.gz\n",
            "Downloading http://fashion-mnist.s3-website.eu-central-1.amazonaws.com/train-images-idx3-ubyte.gz to ./data/FashionMNIST/raw/train-images-idx3-ubyte.gz\n"
          ]
        },
        {
          "output_type": "stream",
          "name": "stderr",
          "text": [
            "100%|██████████| 26421880/26421880 [00:01<00:00, 17510411.31it/s]\n"
          ]
        },
        {
          "output_type": "stream",
          "name": "stdout",
          "text": [
            "Extracting ./data/FashionMNIST/raw/train-images-idx3-ubyte.gz to ./data/FashionMNIST/raw\n",
            "\n",
            "Downloading http://fashion-mnist.s3-website.eu-central-1.amazonaws.com/train-labels-idx1-ubyte.gz\n",
            "Downloading http://fashion-mnist.s3-website.eu-central-1.amazonaws.com/train-labels-idx1-ubyte.gz to ./data/FashionMNIST/raw/train-labels-idx1-ubyte.gz\n"
          ]
        },
        {
          "output_type": "stream",
          "name": "stderr",
          "text": [
            "100%|██████████| 29515/29515 [00:00<00:00, 310541.49it/s]\n"
          ]
        },
        {
          "output_type": "stream",
          "name": "stdout",
          "text": [
            "Extracting ./data/FashionMNIST/raw/train-labels-idx1-ubyte.gz to ./data/FashionMNIST/raw\n",
            "\n",
            "Downloading http://fashion-mnist.s3-website.eu-central-1.amazonaws.com/t10k-images-idx3-ubyte.gz\n",
            "Downloading http://fashion-mnist.s3-website.eu-central-1.amazonaws.com/t10k-images-idx3-ubyte.gz to ./data/FashionMNIST/raw/t10k-images-idx3-ubyte.gz\n"
          ]
        },
        {
          "output_type": "stream",
          "name": "stderr",
          "text": [
            "100%|██████████| 4422102/4422102 [00:00<00:00, 5355738.50it/s] \n"
          ]
        },
        {
          "output_type": "stream",
          "name": "stdout",
          "text": [
            "Extracting ./data/FashionMNIST/raw/t10k-images-idx3-ubyte.gz to ./data/FashionMNIST/raw\n",
            "\n",
            "Downloading http://fashion-mnist.s3-website.eu-central-1.amazonaws.com/t10k-labels-idx1-ubyte.gz\n",
            "Downloading http://fashion-mnist.s3-website.eu-central-1.amazonaws.com/t10k-labels-idx1-ubyte.gz to ./data/FashionMNIST/raw/t10k-labels-idx1-ubyte.gz\n"
          ]
        },
        {
          "output_type": "stream",
          "name": "stderr",
          "text": [
            "100%|██████████| 5148/5148 [00:00<00:00, 15131238.26it/s]\n"
          ]
        },
        {
          "output_type": "stream",
          "name": "stdout",
          "text": [
            "Extracting ./data/FashionMNIST/raw/t10k-labels-idx1-ubyte.gz to ./data/FashionMNIST/raw\n",
            "\n"
          ]
        },
        {
          "output_type": "stream",
          "name": "stderr",
          "text": [
            "/usr/local/lib/python3.9/dist-packages/torch/utils/data/dataloader.py:561: UserWarning: This DataLoader will create 8 worker processes in total. Our suggested max number of worker in current system is 2, which is smaller than what this DataLoader is going to create. Please be aware that excessive worker creation might get DataLoader running slow or even freeze, lower the worker number to avoid potential slowness/freeze if necessary.\n",
            "  warnings.warn(_create_warning_msg(\n"
          ]
        }
      ],
      "source": [
        "\n",
        "train_transform = transforms.Compose(\n",
        "    [#transforms.RandomHorizontalFlip(p=0.5), #\n",
        "     #transforms.RandomAffine(degrees=(-5, 5), translate=(0.1, 0.1), scale=(0.9, 1.1)), ##DATA AUGMENTATION transforms.RandomAffine(degrees=(-5, 5), translate=(0.1, 0.1), scale=(0.9, 1.1), resample=PIL.Image.BILINEAR)\n",
        "     transforms.ToTensor(),\n",
        "     transforms.Normalize((0.5,), (0.5,)) #\n",
        "     ])\n",
        "\n",
        "test_transform = transforms.Compose(\n",
        "    [\n",
        "     transforms.ToTensor(),\n",
        "     transforms.Normalize((0.5,), (0.5,)) #\n",
        "     ])\n",
        "\n",
        "dataset = torchvision.datasets.FashionMNIST(root='./data', train=True, download=True, transform=train_transform)\n",
        "train_set, val_set = torch.utils.data.random_split(dataset, [50000, 10000])\n",
        "\n",
        "train_loader = torch.utils.data.DataLoader(train_set, batch_size=128, shuffle=True, num_workers=8)\n",
        "val_loader = torch.utils.data.DataLoader(val_set, batch_size=128, shuffle=False, num_workers=8)\n",
        "\n",
        "test_set = torchvision.datasets.FashionMNIST(root='./data', train=False, download=True, transform=test_transform)\n",
        "test_loader = torch.utils.data.DataLoader(test_set, batch_size=128, shuffle=False, num_workers=8)\n",
        "\n",
        "classes = [\"T-shirt/top\", \"Trouser\", \"Pullover\", \"Dress\", \"Coat\", \"Sandal\", \"Shirt\", \"Sneaker\", \"Bag\", \"Ankle boot\"]"
      ]
    },
    {
      "cell_type": "markdown",
      "metadata": {
        "id": "b_2DjMXgzLGz"
      },
      "source": [
        "### Visualize 10 different classes of images in the training dataset"
      ]
    },
    {
      "cell_type": "code",
      "execution_count": 3,
      "metadata": {
        "id": "-afxRYXEffJx",
        "colab": {
          "base_uri": "https://localhost:8080/",
          "height": 474
        },
        "outputId": "fab819c5-e2bf-45ed-b5e1-356702dd9f1f"
      },
      "outputs": [
        {
          "output_type": "display_data",
          "data": {
            "text/plain": [
              "<Figure size 1200x600 with 10 Axes>"
            ],
            "image/png": "[encoded data removed]"
          },
          "metadata": {}
        }
      ],
      "source": [
        "import matplotlib.pyplot as plt\n",
        "import numpy as np\n",
        "\n",
        "# visualize training image for each class\n",
        "sample_images = [dataset.data[np.asarray(dataset.targets) == label][0] for label in range(10)]\n",
        "# show images\n",
        "fig, axes = plt.subplots(2, 5, figsize=(12, 6))\n",
        "i = 0\n",
        "for row in axes:\n",
        "  for axis in row:\n",
        "    axis.set_xticks([])\n",
        "    axis.set_yticks([])\n",
        "    axis.set_xlabel(classes[i], fontsize=15)\n",
        "    axis.imshow(sample_images[i])\n",
        "    i += 1"
      ]
    },
    {
      "cell_type": "markdown",
      "metadata": {
        "id": "pyEoUgQH83AC"
      },
      "source": [
        "## 2.1. A CNN with MaxPooling layers\n",
        "\n"
      ]
    },
    {
      "cell_type": "markdown",
      "source": [
        "### Design the model \n",
        "You will implement a CNN model. In PyTorch, there are built-in functions that carry out the convolution steps for you. The following shows the key functions required for the design.\n",
        "\n",
        "\n",
        "*   nn.**[Conv2d](https://pytorch.org/docs/stable/generated/torch.nn.Conv2d.html)**(in_channels, out_channels, kernel_size, stride=1, padding=0, bias=False): Convolution layer.\n",
        "*   nn.**[MaxPool2d](https://pytorch.org/docs/stable/generated/torch.nn.MaxPool2d.html)**(kernel_size, stride=None, padding=0): Max pooling layer. \n",
        "* nn.**[Dropout](https://pytorch.org/docs/stable/generated/torch.nn.Dropout.html)**(p=0.5, inplace=False): randomly zeroes some of the elements of the input tensor during training.\n",
        "*   F.**[relu](https://pytorch.org/docs/stable/generated/torch.nn.ReLU.html)**(Z1): computes the elementwise ReLU of Z1 (which can be any shape).  \n",
        "*   x.**[view](https://pytorch.org/docs/stable/generated/torch.Tensor.view.html)**(new_shape): returns a new tensor with the same data but different size. It is the equivalent of numpy function reshape (Gives a new shape to an array without changing its data). \n",
        "*   nn.**[Linear](https://pytorch.org/docs/stable/generated/torch.nn.Linear.html)**(in_features, out_features): applies a linear transformation to the incoming data. It is also called a fully connected layer. "
      ],
      "metadata": {
        "id": "eQF2wj0nDSnF"
      }
    },
    {
      "cell_type": "code",
      "execution_count": 4,
      "metadata": {
        "id": "NzWwNSgD6PjM",
        "colab": {
          "base_uri": "https://localhost:8080/"
        },
        "outputId": "f36413b5-c2a1-4e14-9aee-5400be364578"
      },
      "outputs": [
        {
          "output_type": "stream",
          "name": "stdout",
          "text": [
            "Device: cuda:0\n",
            "Number of trainable parameters: 2003754\n",
            "----------------------------------------------------------------\n",
            "        Layer (type)               Output Shape         Param #\n",
            "================================================================\n",
            "            Conv2d-1           [-1, 32, 26, 26]             320\n",
            "         MaxPool2d-2           [-1, 32, 25, 25]               0\n",
            "            Conv2d-3           [-1, 64, 23, 23]          18,496\n",
            "         MaxPool2d-4           [-1, 64, 22, 22]               0\n",
            "           Dropout-5           [-1, 64, 22, 22]               0\n",
            "            Linear-6                   [-1, 64]       1,982,528\n",
            "            Linear-7                   [-1, 32]           2,080\n",
            "            Linear-8                   [-1, 10]             330\n",
            "================================================================\n",
            "Total params: 2,003,754\n",
            "Trainable params: 2,003,754\n",
            "Non-trainable params: 0\n",
            "----------------------------------------------------------------\n",
            "Input size (MB): 0.00\n",
            "Forward/backward pass size (MB): 1.05\n",
            "Params size (MB): 7.64\n",
            "Estimated Total Size (MB): 8.70\n",
            "----------------------------------------------------------------\n"
          ]
        }
      ],
      "source": [
        "import torch.nn as nn\n",
        "import torch.nn.functional as F\n",
        "\n",
        "# Problem 2: Implementing your own CNN\n",
        "# a. Convolution and MaxPooling layers\n",
        "\n",
        "\n",
        "class CNN_Max(nn.Module):\n",
        "  \"\"\"\n",
        "  A convolutional neural network (CNN). In this CNN object, we will use following\n",
        "  dimensions:\n",
        "\n",
        "  input_size: the dimension d of the input data.                        \n",
        "  hidden_size: the number of neurons h in the hidden layer.             \n",
        "  output_size: the number of classes c, which is 10 in our task          \n",
        "  \"\"\"\n",
        "  def __init__(self):\n",
        "    \"\"\"\n",
        "    An initialization function. This object of network is a simple feed-forward \n",
        "    network. It takes an input to pass to muitiple layers. Then, provide the \n",
        "    output. The layers are initialized after their creation. \n",
        "\n",
        "    In this problem, we will use following set of parameters building a CNN/\n",
        "\n",
        "    conv: convolutional kernel size, which is 3 by 3 with bias                         \n",
        "    pool: pooling kernel-size, which is 2 by 2    \n",
        "    dropout: random zeroing layer with probability 0.4                            \n",
        "    fc: fully-connected layer which uses affine operation y=Wx+b              \n",
        "\n",
        "    Parameters\n",
        "    ----------\n",
        "    N/A\n",
        "    \"\"\"\n",
        "    super(CNN_Max, self).__init__()\n",
        "\n",
        "    #############################################################################\n",
        "    # PLACE YOUR CODE HERE                                                      #\n",
        "    ############################################################################# \n",
        "    self.conv1 = nn.Conv2d(in_channels=1, out_channels=32, kernel_size=3, bias=True)  \n",
        "    self.conv2 = nn.Conv2d(in_channels=32, out_channels=64, kernel_size=3, bias=True)\n",
        "    self.maxpool = nn.MaxPool2d(kernel_size=2, stride=1)\n",
        "    self.linear1 = nn.Linear(in_features=64*22*22, out_features=64, bias=True)\n",
        "    self.linear2 = nn.Linear(in_features=64, out_features=32, bias=True)\n",
        "    self.linear3 = nn.Linear(in_features=32, out_features=10, bias=True)\n",
        "    self.dropout = nn.Dropout(p=0.7)\n",
        "    #############################################################################\n",
        "   \n",
        "\n",
        "  def forward(self, x):\n",
        "    \"\"\"\n",
        "    A forward pass function. Using the pre-defined network modules, we can here \n",
        "    build a model designing its structure. \n",
        "\n",
        "    Parameters\n",
        "    ---------- \n",
        "    x: matrix  \n",
        "      an input data of shape (1, d, d), where d is the dimension of the input \n",
        "      image. \n",
        "  \n",
        "    Returns\n",
        "    ---------- \n",
        "    out:     \n",
        "      an output data given x.\n",
        "\n",
        "    \"\"\"\n",
        "    #############################################################################\n",
        "    # PLACE YOUR CODE HERE                                                      #\n",
        "    ############################################################################# \n",
        "    x = self.conv1(x)                 # (1, 28, 28)  -> (32, 26, 26)\n",
        "    x = self.maxpool(x)               # (32, 26, 26) -> (32, 25, 25)\n",
        "\n",
        "    x = self.conv2(x)                 # (32, 25, 25) -> (64, 23, 23)\n",
        "    x = self.maxpool(x)               # (64, 23, 23) -> (64, 22, 22)\n",
        "    x = self.dropout(x)\n",
        "    \n",
        "    x = x.view(-1, 64 * 22 * 22)      # (64, 22, 22) -> (64 * 22 * 22, )\n",
        "    x = F.relu(self.linear1(x))       # (64 * 22 * 22,) -> (64, )\n",
        "    x = F.relu(self.linear2(x))       # (64, ) -> (32, )\n",
        "    out = self.linear3(x)             # (32, ) -> (10, )\n",
        "    #############################################################################\n",
        "\n",
        "    return out\n",
        "\n",
        "# create a CNN object\n",
        "net = CNN_Max()\n",
        "device = torch.device(\"cuda:0\" if torch.cuda.is_available() else \"cpu\")\n",
        "print('Device:', device)\n",
        "net.to(device)\n",
        "\n",
        "num_params = sum(p.numel() for p in net.parameters() if p.requires_grad)\n",
        "print(\"Number of trainable parameters:\", num_params)\n",
        "\n",
        "from torchsummary import summary\n",
        "summary(net,(1,28,28))"
      ]
    },
    {
      "cell_type": "markdown",
      "metadata": {
        "id": "wDoOISiD-j-y"
      },
      "source": [
        "### Train the designed model:"
      ]
    },
    {
      "cell_type": "code",
      "execution_count": 5,
      "metadata": {
        "id": "knNfturO7P8H",
        "colab": {
          "base_uri": "https://localhost:8080/"
        },
        "outputId": "6298fb33-31d6-4ad0-e707-462315388386"
      },
      "outputs": [
        {
          "output_type": "stream",
          "name": "stdout",
          "text": [
            "[epoch 1] loss: 0.00460 accuracy: 0.7817 val loss: 0.00334 val accuracy: 0.8455\n",
            "[epoch 2] loss: 0.00286 accuracy: 0.8665 val loss: 0.00258 val accuracy: 0.8831\n",
            "[epoch 3] loss: 0.00246 accuracy: 0.8852 val loss: 0.00249 val accuracy: 0.8839\n",
            "[epoch 4] loss: 0.00224 accuracy: 0.8957 val loss: 0.00229 val accuracy: 0.8936\n",
            "[epoch 5] loss: 0.00205 accuracy: 0.9034 val loss: 0.00223 val accuracy: 0.8997\n",
            "[epoch 6] loss: 0.00190 accuracy: 0.9102 val loss: 0.00212 val accuracy: 0.9023\n",
            "[epoch 7] loss: 0.00179 accuracy: 0.9148 val loss: 0.00217 val accuracy: 0.9004\n",
            "[epoch 8] loss: 0.00168 accuracy: 0.9204 val loss: 0.00204 val accuracy: 0.9052\n",
            "[epoch 9] loss: 0.00158 accuracy: 0.9247 val loss: 0.00223 val accuracy: 0.9002\n",
            "[epoch 10] loss: 0.00151 accuracy: 0.9267 val loss: 0.00197 val accuracy: 0.9126\n",
            "[epoch 11] loss: 0.00142 accuracy: 0.9318 val loss: 0.00202 val accuracy: 0.9084\n",
            "[epoch 12] loss: 0.00132 accuracy: 0.9368 val loss: 0.00210 val accuracy: 0.9112\n",
            "[epoch 13] loss: 0.00129 accuracy: 0.9382 val loss: 0.00198 val accuracy: 0.9139\n",
            "[epoch 14] loss: 0.00122 accuracy: 0.9426 val loss: 0.00215 val accuracy: 0.9082\n",
            "[epoch 15] loss: 0.00114 accuracy: 0.9451 val loss: 0.00214 val accuracy: 0.9125\n",
            "[epoch 16] loss: 0.00109 accuracy: 0.9486 val loss: 0.00220 val accuracy: 0.9121\n",
            "[epoch 17] loss: 0.00106 accuracy: 0.9489 val loss: 0.00226 val accuracy: 0.9056\n",
            "[epoch 18] loss: 0.00101 accuracy: 0.9513 val loss: 0.00215 val accuracy: 0.9129\n",
            "[epoch 19] loss: 0.00097 accuracy: 0.9530 val loss: 0.00215 val accuracy: 0.9143\n",
            "[epoch 20] loss: 0.00095 accuracy: 0.9550 val loss: 0.00219 val accuracy: 0.9168\n",
            "Epoch 00021: reducing learning rate of group 0 to 1.0000e-03.\n",
            "[epoch 21] loss: 0.00090 accuracy: 0.9570 val loss: 0.00224 val accuracy: 0.9180\n",
            "[epoch 22] loss: 0.00069 accuracy: 0.9676 val loss: 0.00217 val accuracy: 0.9205\n",
            "[epoch 23] loss: 0.00065 accuracy: 0.9692 val loss: 0.00219 val accuracy: 0.9204\n",
            "[epoch 24] loss: 0.00060 accuracy: 0.9710 val loss: 0.00221 val accuracy: 0.9203\n",
            "[epoch 25] loss: 0.00060 accuracy: 0.9724 val loss: 0.00221 val accuracy: 0.9188\n",
            "[epoch 26] loss: 0.00058 accuracy: 0.9724 val loss: 0.00223 val accuracy: 0.9194\n",
            "[epoch 27] loss: 0.00057 accuracy: 0.9727 val loss: 0.00226 val accuracy: 0.9206\n",
            "[epoch 28] loss: 0.00057 accuracy: 0.9740 val loss: 0.00226 val accuracy: 0.9202\n",
            "[epoch 29] loss: 0.00055 accuracy: 0.9747 val loss: 0.00226 val accuracy: 0.9191\n",
            "[epoch 30] loss: 0.00054 accuracy: 0.9744 val loss: 0.00228 val accuracy: 0.9190\n"
          ]
        }
      ],
      "source": [
        "import torch.optim as optim\n",
        "\n",
        "\"\"\"\n",
        "\n",
        " You have to define the loss, for that please use cross entropy loss      \n",
        " Also, you must implement optimizer called SGD.                           \n",
        "\n",
        "\"\"\"\n",
        "\n",
        "#############################################################################\n",
        "# PLACE YOUR CODE HERE                                                      #\n",
        "############################################################################# \n",
        "criterion = nn.CrossEntropyLoss()\n",
        "optimizer = optim.SGD(net.parameters(), lr=0.01, momentum=0.9, weight_decay=1e-5)\n",
        "#############################################################################\n",
        "scheduler = optim.lr_scheduler.ReduceLROnPlateau(optimizer, mode='min', factor=0.1, patience=10, verbose=True)\n",
        "\n",
        "loss_hist, acc_hist = [], []\n",
        "loss_hist_val, acc_hist_val = [], []\n",
        "\n",
        "for epoch in range(30):\n",
        "  running_loss = 0.0\n",
        "  correct = 0\n",
        "  for data in train_loader:\n",
        "    batch, labels = data\n",
        "    batch, labels = batch.to(device), labels.to(device)\n",
        "\n",
        "    \"\"\"\n",
        "\n",
        "    First, set the gradients to zero. Then obtain predictions from your CNN   \n",
        "    model. After that, pass into loss to calculate the difference between the \n",
        "    prediction and labels. Next, you have to compute the gradients with       \n",
        "    respect to the tensor.  \n",
        "\n",
        "\n",
        "    \"\"\"\n",
        "    #############################################################################\n",
        "    # PLACE YOUR CODE HERE                                                      #\n",
        "    ############################################################################# \n",
        "    optimizer.zero_grad() # optimizer default 설정이 gradients를 계속 더하기 때문에 항상 초기화 해줘야함. \n",
        "    \n",
        "    outputs = net(batch) #(batch_size, class_num) = (128, 10)\n",
        "    loss = criterion(outputs, labels)\n",
        "    loss.backward() \n",
        "    '''\n",
        "    MEMO for me\n",
        "\n",
        "    loss의 type은 tensor이지만, tensor의 attribute에 기본적으로 .requires_grad와 .grad_fn이 있다.\n",
        "    .grad_fn은 loss가 만들어진 마지막 연산 함수를 기억한다. (이 경우, grad_fn=<NllLossBackward0>)\n",
        "    loss값이 만들어진 함수를 참조하여 loss.backward()를 통해 grad를 계산한다. \n",
        "    이후 Autograd가 parameter의 .grad attribute에 grad값을 저장한다. 따라서 loss.backward()를 한 후,\n",
        "    net.parameters()의 paramter들에 .grad를 찍으면 각 weigt(혹은 bias)의 gradient 값이 나온다.\n",
        "    그리고 optimizer.step()을 통해 paramter를 조정한다. \n",
        "    \n",
        "    *참조* https://tutorials.pytorch.kr/beginner/blitz/autograd_tutorial.html\n",
        "    '''\n",
        "    #############################################################################\n",
        "    optimizer.step()\n",
        "\n",
        "    # compute training statistics\n",
        "    _, predicted = torch.max(outputs, 1)\n",
        "    correct += (predicted == labels).sum().item()\n",
        "    running_loss += loss.item()\n",
        "\n",
        "  avg_loss = running_loss / len(train_set)\n",
        "  avg_acc = correct / len(train_set)\n",
        "  loss_hist.append(avg_loss)\n",
        "  acc_hist.append(avg_acc)\n",
        "\n",
        "  # validation statistics\n",
        "  net.eval()\n",
        "  with torch.no_grad():\n",
        "    loss_val = 0.0\n",
        "    correct_val = 0\n",
        "    for data in val_loader:\n",
        "      batch, labels = data\n",
        "      batch, labels = batch.to(device), labels.to(device)\n",
        "      outputs = net(batch)\n",
        "      loss = criterion(outputs, labels)\n",
        "      _, predicted = torch.max(outputs, 1)\n",
        "      correct_val += (predicted == labels).sum().item()\n",
        "      loss_val += loss.item()\n",
        "    avg_loss_val = loss_val / len(val_set)\n",
        "    avg_acc_val = correct_val / len(val_set)\n",
        "    loss_hist_val.append(avg_loss_val)\n",
        "    acc_hist_val.append(avg_acc_val)\n",
        "  net.train()\n",
        "\n",
        "  scheduler.step(avg_loss_val)\n",
        "  print('[epoch %d] loss: %.5f accuracy: %.4f val loss: %.5f val accuracy: %.4f' % (epoch + 1, avg_loss, avg_acc, avg_loss_val, avg_acc_val))"
      ]
    },
    {
      "cell_type": "markdown",
      "source": [
        "### Visualize the classification accuracies"
      ],
      "metadata": {
        "id": "_P5cyYuvF4Lk"
      }
    },
    {
      "cell_type": "code",
      "execution_count": 6,
      "metadata": {
        "id": "vg2nMdpG7Vhx",
        "colab": {
          "base_uri": "https://localhost:8080/",
          "height": 480
        },
        "outputId": "be19ed17-3e35-4e8f-c275-f1b7c7f8b19e"
      },
      "outputs": [
        {
          "output_type": "display_data",
          "data": {
            "text/plain": [
              "<Figure size 640x480 with 2 Axes>"
            ],
            "image/png": "[encoded data removed]"
          },
          "metadata": {}
        }
      ],
      "source": [
        "import matplotlib.pyplot as plt\n",
        "\n",
        "\"\"\"\n",
        "\n",
        "  You have to plot two graphs, one for loss of training and validation data \n",
        "  and second one for accuarcy of training and validation data.              \n",
        "  Set x-axis to number of epochs and y-axis to loss or accuracy. Set legend \n",
        "  equal to training and validation set.                                      \n",
        "\n",
        "\"\"\"\n",
        "legend = ['Train', 'Validation']\n",
        "#############################################################################\n",
        "# PLACE YOUR CODE HERE                                                      #\n",
        "############################################################################# \n",
        "fig, ax = plt.subplots(2, 1)\n",
        "\n",
        "plt.subplot(2,1,1)\n",
        "plt.plot(loss_hist)\n",
        "plt.plot(loss_hist_val)\n",
        "plt.title('Loss history')\n",
        "plt.xlabel('epoch')\n",
        "plt.ylabel('Loss')\n",
        "\n",
        "fig.tight_layout(pad=2.0)\n",
        "\n",
        "plt.subplot(2,1,2)\n",
        "plt.plot(acc_hist)\n",
        "plt.plot(acc_hist_val)\n",
        "plt.title('Accuracy history')\n",
        "plt.xlabel('epoch')\n",
        "plt.ylabel('Accuracy') \n",
        "#############################################################################\n",
        "plt.legend(legend, loc='upper left')\n",
        "plt.show()\n"
      ]
    },
    {
      "cell_type": "markdown",
      "source": [
        "Save and download the learned weights"
      ],
      "metadata": {
        "id": "n87pyow5GZcV"
      }
    },
    {
      "cell_type": "code",
      "execution_count": 7,
      "metadata": {
        "id": "PwG1GQlpQDlK",
        "colab": {
          "base_uri": "https://localhost:8080/",
          "height": 17
        },
        "outputId": "deff8c72-9a72-44a1-87d3-8335e16e4165"
      },
      "outputs": [
        {
          "output_type": "display_data",
          "data": {
            "text/plain": [
              "<IPython.core.display.Javascript object>"
            ],
            "application/javascript": [
              "\n",
              "    async function download(id, filename, size) {\n",
              "      if (!google.colab.kernel.accessAllowed) {\n",
              "        return;\n",
              "      }\n",
              "      const div = document.createElement('div');\n",
              "      const label = document.createElement('label');\n",
              "      label.textContent = `Downloading \"${filename}\": `;\n",
              "      div.appendChild(label);\n",
              "      const progress = document.createElement('progress');\n",
              "      progress.max = size;\n",
              "      div.appendChild(progress);\n",
              "      document.body.appendChild(div);\n",
              "\n",
              "      const buffers = [];\n",
              "      let downloaded = 0;\n",
              "\n",
              "      const channel = await google.colab.kernel.comms.open(id);\n",
              "      // Send a message to notify the kernel that we're ready.\n",
              "      channel.send({})\n",
              "\n",
              "      for await (const message of channel.messages) {\n",
              "        // Send a message to notify the kernel that we're ready.\n",
              "        channel.send({})\n",
              "        if (message.buffers) {\n",
              "          for (const buffer of message.buffers) {\n",
              "            buffers.push(buffer);\n",
              "            downloaded += buffer.byteLength;\n",
              "            progress.value = downloaded;\n",
              "          }\n",
              "        }\n",
              "      }\n",
              "      const blob = new Blob(buffers, {type: 'application/binary'});\n",
              "      const a = document.createElement('a');\n",
              "      a.href = window.URL.createObjectURL(blob);\n",
              "      a.download = filename;\n",
              "      div.appendChild(a);\n",
              "      a.click();\n",
              "      div.remove();\n",
              "    }\n",
              "  "
            ]
          },
          "metadata": {}
        },
        {
          "output_type": "display_data",
          "data": {
            "text/plain": [
              "<IPython.core.display.Javascript object>"
            ],
            "application/javascript": [
              "download(\"download_01bc828d-16fa-4248-b119-e5631cbfa2e5\", \"checkpoint.pth\", 8018411)"
            ]
          },
          "metadata": {}
        }
      ],
      "source": [
        "from google.colab import files\n",
        "\n",
        "torch.save(net.state_dict(), 'checkpoint.pth')\n",
        "# download checkpoint file\n",
        "files.download('checkpoint.pth')"
      ]
    },
    {
      "cell_type": "markdown",
      "source": [
        "### Test the learned model with the test dataset"
      ],
      "metadata": {
        "id": "EB8wGHWCGgxK"
      }
    },
    {
      "cell_type": "code",
      "execution_count": 8,
      "metadata": {
        "id": "HlrJrurZQMsy",
        "colab": {
          "base_uri": "https://localhost:8080/"
        },
        "outputId": "278a157c-0df6-416b-d1ca-5be7509cdaf8"
      },
      "outputs": [
        {
          "output_type": "stream",
          "name": "stdout",
          "text": [
            "Accuracy on the 10000 test images: 91.91 %\n"
          ]
        }
      ],
      "source": [
        "pred_vec = []\n",
        "correct = 0\n",
        "net.eval()\n",
        "with torch.no_grad():\n",
        "    for data in test_loader:\n",
        "        batch, labels = data\n",
        "        batch, labels = batch.to(device), labels.to(device)\n",
        "        outputs = net(batch)\n",
        "        _, predicted = torch.max(outputs, 1)\n",
        "        correct += (predicted == labels).sum().item()\n",
        "        pred_vec.append(predicted)\n",
        "    pred_vec = torch.cat(pred_vec)\n",
        "\n",
        "print('Accuracy on the 10000 test images: %.2f %%' % (100 * correct / len(test_set)))"
      ]
    }
  ],
  "metadata": {
    "accelerator": "GPU",
    "colab": {
      "provenance": []
    },
    "gpuClass": "standard",
    "kernelspec": {
      "display_name": "Python 3.8.10 64-bit",
      "language": "python",
      "name": "python3"
    },
    "language_info": {
      "name": "python",
      "version": "3.8.10"
    },
    "vscode": {
      "interpreter": {
        "hash": "916dbcbb3f70747c44a77c7bcd40155683ae19c65e1c03b4aa3499c5328201f1"
      }
    }
  },
  "nbformat": 4,
  "nbformat_minor": 0
}